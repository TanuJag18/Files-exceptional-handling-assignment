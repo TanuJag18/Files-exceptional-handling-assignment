{
 "cells": [
  {
   "cell_type": "code",
   "execution_count": null,
   "id": "7f2beff6-ecf4-4596-a1a8-160668979e9c",
   "metadata": {},
   "outputs": [],
   "source": [
    "#Q1. What is the difference between interpreted and compiled languages?\n",
    "#Ans: Compiled languages translate the entire source code into machine code before execution, resulting in faster performance.\n",
    "# Interpreted languages execute code line by line, translating each instruction during runtime, which offers flexibility but can be slower."
   ]
  },
  {
   "cell_type": "code",
   "execution_count": null,
   "id": "48888f24-edea-4bef-972f-055462ab4542",
   "metadata": {},
   "outputs": [],
   "source": [
    "#Q2. F What is exception handling in Python\n",
    "#Ans: In Python, exception handling is a mechanism to deal with errors that occur during program execution. It uses try...except blocks to catch and respond to these errors, preventing the program from crashing."
   ]
  },
  {
   "cell_type": "code",
   "execution_count": null,
   "id": "1f10435d-16fd-4b84-a214-461fdf9b8ead",
   "metadata": {},
   "outputs": [],
   "source": [
    "#Q3. What is the purpose of the finally block in exception handling\n",
    "#Ans: The finally block in Python's exception handling ensures that a specific set of code is always executed, regardless of whether an exception occurred or not. It's typically used for cleanup actions like closing files or releasing resources."
   ]
  },
  {
   "cell_type": "code",
   "execution_count": null,
   "id": "2660979b-64a3-4178-85d3-1f7d0f9d520d",
   "metadata": {},
   "outputs": [],
   "source": [
    "#Q4. What is logging in Python?\n",
    "#Ans: Logging in Python is a way to track events that occur when a program runs, recording information like errors, warnings, and informational messages. It's used for debugging, monitoring, and understanding application behavior over time."
   ]
  },
  {
   "cell_type": "code",
   "execution_count": null,
   "id": "0d01d218-6b4b-4277-aea8-7bc9bd16d26f",
   "metadata": {},
   "outputs": [],
   "source": [
    "#Q5. What is the significance of the __del__ method in Python?\n",
    "#Ans: The __del__ method in Python is a destructor that's called when an object is about to be garbage collected. It's intended for cleanup actions, but its execution is not guaranteed, so it's best to use it cautiously."
   ]
  },
  {
   "cell_type": "code",
   "execution_count": null,
   "id": "bb483224-ac6f-456e-b5d4-1a180bcf6d43",
   "metadata": {},
   "outputs": [],
   "source": [
    "#Q6. What is the difference between import and from ... import in Python\n",
    "#Ans: import module: This imports the entire module, and you access its contents using the module's name as a prefix (e.g., module.function()).\n",
    "# from module import item: This imports specific items (functions, classes, variables) directly into the current namespace, allowing you to use them without the module prefix (e.g., function())."
   ]
  },
  {
   "cell_type": "code",
   "execution_count": null,
   "id": "9dfe398d-c7bc-461d-b9cc-5337dc8febd1",
   "metadata": {},
   "outputs": [],
   "source": [
    "#Q7. How can you handle multiple exceptions in Python?\n",
    "#Ans: You can handle multiple exceptions in Python using multiple except blocks, each targeting a specific exception type. Alternatively, you can catch multiple exceptions in a single except block by enclosing them in parentheses, like except (TypeError, ValueError):."
   ]
  },
  {
   "cell_type": "code",
   "execution_count": null,
   "id": "68fb3acf-d2ec-45a3-9a4e-c6816b14e33b",
   "metadata": {},
   "outputs": [],
   "source": [
    "#Q8. What is the purpose of the with statement when handling files in Python?\n",
    "#Ans: The with statement in Python when handling files ensures that resources are properly managed by automatically closing the file after its suite finishes. It simplifies code and prevents resource leaks by guaranteeing cleanup even if exceptions occur."
   ]
  },
  {
   "cell_type": "code",
   "execution_count": null,
   "id": "5175485a-028f-4109-8c3e-8187571fd0b3",
   "metadata": {},
   "outputs": [],
   "source": [
    "#Q9. What is the difference between multithreading and multiprocessing?\n",
    "#Ans: Multithreading runs multiple threads within a single process, sharing the same memory space, which is efficient for I/O-bound tasks.\n",
    "#   Multiprocessing runs multiple processes, each with its own memory space, enabling true parallelism and is ideal for CPU-bound tasks."
   ]
  },
  {
   "cell_type": "code",
   "execution_count": null,
   "id": "151295a4-9508-4c74-8856-5bf9c5781be7",
   "metadata": {},
   "outputs": [],
   "source": [
    "#Q10. What are the advantages of using logging in a program?\n",
    "#Ans: Logging provides detailed insights into a program's execution, aiding in debugging and troubleshooting by recording events and errors. It also facilitates monitoring and analysis of application behavior, crucial for performance optimization and maintenance."
   ]
  },
  {
   "cell_type": "code",
   "execution_count": null,
   "id": "5198f331-5059-4fa1-8c40-b5bcfe2d6b92",
   "metadata": {},
   "outputs": [],
   "source": [
    "#Q11.  What is memory management in Python?\n",
    "#Ans: Python's memory management handles the allocation and deallocation of memory for objects, largely automatically. It uses a combination of reference counting and a garbage collector to reclaim memory no longer in use, simplifying development by reducing the risk of memory leaks."
   ]
  },
  {
   "cell_type": "code",
   "execution_count": null,
   "id": "e859fa34-fcbc-4eb2-ac15-99b5ff5c8b62",
   "metadata": {},
   "outputs": [],
   "source": [
    "#Q12. What are the basic steps involved in exception handling in Python?\n",
    "#Ans: Exception handling involves wrapping potentially problematic code in a try block and then using except blocks to catch and handle specific errors. If an error occurs within the try block, the corresponding except block is executed, preventing the program from crashing."
   ]
  },
  {
   "cell_type": "code",
   "execution_count": null,
   "id": "b68b5766-b3b5-44ee-a5f9-505ca7d86e99",
   "metadata": {},
   "outputs": [],
   "source": [
    "#Q13. Why is memory management important in Python?\n",
    "#Ans: Memory management is crucial in Python to prevent memory leaks and ensure efficient resource utilization, allowing programs to run smoothly and reliably. Proper memory management optimizes performance by reclaiming unused memory, preventing applications from crashing due to excessive memory consumption."
   ]
  },
  {
   "cell_type": "code",
   "execution_count": null,
   "id": "9e32db59-19cf-4cd6-8626-a6412401c918",
   "metadata": {},
   "outputs": [],
   "source": [
    "#Q14. What is the role of try and except in exception handling?\n",
    "#Ans: The try block encloses code that might raise an exception, while the except block catches and handles those exceptions. try identifies the risky code, and except dictates how the program should respond to specific errors, maintaining program flow."
   ]
  },
  {
   "cell_type": "code",
   "execution_count": null,
   "id": "ef0c5b5b-3bfb-4e41-8111-091e444b9142",
   "metadata": {},
   "outputs": [],
   "source": [
    "#Q15. How does Python's garbage collection system work?\n",
    "#Ans: Python's garbage collection uses reference counting to immediately reclaim memory when an object's reference count drops to zero. It also employs a cyclic garbage collector to detect and break reference cycles, ensuring memory is freed even when objects refer to each other."
   ]
  },
  {
   "cell_type": "code",
   "execution_count": null,
   "id": "802805fd-d007-40c3-a7b0-dab0d4845073",
   "metadata": {},
   "outputs": [],
   "source": [
    "#Q16. What is the purpose of the else block in exception handling\n",
    "#Ans: The else block in Python's exception handling executes only if no exceptions are raised within the try block. It's used to place code that should run when the try block completes successfully, separating normal execution from error handling."
   ]
  },
  {
   "cell_type": "code",
   "execution_count": 2,
   "id": "4d2a84b0-ade3-4530-ac76-fbbbebfada36",
   "metadata": {},
   "outputs": [],
   "source": [
    "#Q17. What are the common logging levels in Python?\n",
    "#Ans: Python's common logging levels, in increasing severity, are DEBUG, INFO, WARNING, ERROR, and CRITICAL. DEBUG is for detailed information, while CRITICAL indicates severe errors that may lead to program termination."
   ]
  },
  {
   "cell_type": "code",
   "execution_count": null,
   "id": "0828f4c7-4c6d-42f6-9121-c6ce6acfbe3e",
   "metadata": {},
   "outputs": [],
   "source": [
    "#Q18. What is the difference between os.fork() and multiprocessing in Python?\n",
    "#Ans: os.fork() creates a direct copy of the parent process, including its memory space, which is very fast but can lead to issues with multithreaded programs.\n",
    "# multiprocessing provides a higher-level interface, often using \"spawn\" or \"forkserver\" methods, which create new, independent Python processes, ensuring better isolation and safety, especially across different operating systems."
   ]
  },
  {
   "cell_type": "code",
   "execution_count": null,
   "id": "2c8a345d-293b-4223-b6c6-07ddbf3cfd83",
   "metadata": {},
   "outputs": [],
   "source": [
    "#Q19. What is the importance of closing a file in Python?\n",
    "#Ans: Closing a file in Python is crucial to release system resources and ensure data integrity by flushing any buffered data to the disk. Failing to close files can lead to data loss or corruption, and may also prevent other programs from accessing the file."
   ]
  },
  {
   "cell_type": "code",
   "execution_count": null,
   "id": "e99f70a6-2e2f-4f0f-8363-6a8b943c3f87",
   "metadata": {},
   "outputs": [],
   "source": [
    "#Q20. What is the difference between file.read() and file.readline() in Python?\n",
    "#Ans: file.read() reads the entire content of a file as a single string, while file.readline() reads only one line at a time. read() consumes the entire file into memory, whereas readline() is memory-efficient for large files by processing them line by line."
   ]
  },
  {
   "cell_type": "code",
   "execution_count": null,
   "id": "322997eb-f324-48b6-b2da-37c6d7d7a2fc",
   "metadata": {},
   "outputs": [],
   "source": [
    "#Q21. What is the logging module in Python used for?\n",
    "#Ans: The logging module in Python provides a flexible framework for emitting log messages from Python programs. It allows developers to record information about program execution, aiding in debugging, monitoring, and understanding application behavior."
   ]
  },
  {
   "cell_type": "code",
   "execution_count": null,
   "id": "5f3e4766-cd68-4e5e-a9ac-e193cd4652a7",
   "metadata": {},
   "outputs": [],
   "source": [
    "#Q22.  What is the os module in Python used for in file handling?\n",
    "#Ans: The os module in Python provides functions for interacting with the operating system, including file system operations like creating, deleting, renaming, and navigating directories. It's used for tasks such as checking file existence, getting file metadata, and manipulating file paths, which are essential for robust file handling."
   ]
  },
  {
   "cell_type": "code",
   "execution_count": null,
   "id": "9706e4df-cf2e-4b58-ad62-bdc8f8b4cc49",
   "metadata": {},
   "outputs": [],
   "source": [
    "#Q23. What are the challenges associated with memory management in Python?\n",
    "#Ans: Python's automatic memory management can sometimes lead to increased memory consumption due to the overhead of garbage collection. Additionally, reference cycles can be challenging to detect and resolve, potentially resulting in memory leaks if not properly handled."
   ]
  },
  {
   "cell_type": "code",
   "execution_count": 4,
   "id": "cbf1b3c1-b58c-4ebb-b3f1-cf76bbc10e5e",
   "metadata": {},
   "outputs": [],
   "source": [
    "#Q24.  How do you raise an exception manually in Python?\n",
    "#Ans: You can raise an exception manually in Python using the raise keyword, followed by the exception type and an optional message.\n"
   ]
  },
  {
   "cell_type": "code",
   "execution_count": null,
   "id": "737976d4-dc55-4356-8095-8ef7202d452d",
   "metadata": {},
   "outputs": [],
   "source": [
    "#Q25.  Why is it important to use multithreading in certain applications?\n",
    "#Ans: Multithreading allows concurrent execution of tasks within a single process, improving application responsiveness, especially in I/O-bound operations. It enables efficient resource utilization by preventing the application from blocking while waiting for external operations to complete."
   ]
  },
  {
   "cell_type": "code",
   "execution_count": null,
   "id": "dba9cc3c-e7d0-445d-ad54-1b175f4a3ac9",
   "metadata": {},
   "outputs": [],
   "source": [
    "#Practicle Question"
   ]
  },
  {
   "cell_type": "code",
   "execution_count": 6,
   "id": "0bab2cfb-60e5-4c12-b2ec-d849506e30aa",
   "metadata": {},
   "outputs": [],
   "source": [
    "#Q1. How can you open a file for writing in Python and write a string to it\n",
    "with open(\"ABC2.txt\",'w') as file:\n",
    "    file.write('Tanushree');\n"
   ]
  },
  {
   "cell_type": "code",
   "execution_count": 4,
   "id": "7d26b562-0d0b-4c9b-a6ac-26f25f8e126f",
   "metadata": {},
   "outputs": [
    {
     "name": "stdout",
     "output_type": "stream",
     "text": [
      "Tanushree\n"
     ]
    }
   ],
   "source": [
    "#Q2. Write a Python program to read the contents of a file and print each line\n",
    "with open('ABC.txt','r') as file:\n",
    "    for line in file:\n",
    "        print(line)"
   ]
  },
  {
   "cell_type": "code",
   "execution_count": 5,
   "id": "d448df65-6115-4068-9e20-5558b0104547",
   "metadata": {},
   "outputs": [
    {
     "name": "stdout",
     "output_type": "stream",
     "text": [
      "File not found\n"
     ]
    }
   ],
   "source": [
    "#Q3. How would you handle a case where the file doesn't exist while trying to open it for reading\n",
    "try:\n",
    "    with open('tanu.txt','r') as file:\n",
    "        for line in file:\n",
    "            print(line)\n",
    "except FileNotFoundError:\n",
    "    print(\"File not found\")\n",
    "except exception as e:\n",
    "    print(e)"
   ]
  },
  {
   "cell_type": "code",
   "execution_count": 7,
   "id": "695886aa-a21d-4102-a141-10bf3d8a5882",
   "metadata": {},
   "outputs": [],
   "source": [
    "#Q4.  Write a Python script that reads from one file and writes its content to another file\n",
    "with open('ABC.txt','r') as file:\n",
    "    content = file.read()\n",
    "with open('ABC2.txt','w') as file:\n",
    "    file.write(content)"
   ]
  },
  {
   "cell_type": "code",
   "execution_count": 8,
   "id": "10a49bab-390f-40e0-8017-c726d927de50",
   "metadata": {},
   "outputs": [
    {
     "name": "stdout",
     "output_type": "stream",
     "text": [
      "denominator cannot be zero\n"
     ]
    }
   ],
   "source": [
    "#Q5. How would you catch and handle division by zero error in Python?\n",
    "try:\n",
    "    x = 5\n",
    "    y = 0\n",
    "    z = x/y\n",
    "except ZeroDivisionError:\n",
    "    print('denominator cannot be zero')\n",
    "except exception as e:\n",
    "    print(e)"
   ]
  },
  {
   "cell_type": "code",
   "execution_count": 9,
   "id": "cbc8321a-f365-4474-b863-26e0262c5ee9",
   "metadata": {},
   "outputs": [
    {
     "name": "stdout",
     "output_type": "stream",
     "text": [
      "denominator cannot be zero\n"
     ]
    }
   ],
   "source": [
    "#Q6. Write a Python program that logs an error message to a log file when a division by zero exception occurs.\n",
    "import logging\n",
    "logging.basicConfig(filename= \"Error.log\", level = logging.ERROR)\n",
    "try:\n",
    "    x = 5\n",
    "    y = 0\n",
    "    z = x/y\n",
    "except ZeroDivisionError:\n",
    "    logging.error(\"denominator cannot be zero\")\n",
    "    print('denominator cannot be zero')\n",
    "except exception as e:\n",
    "    print(e)"
   ]
  },
  {
   "cell_type": "code",
   "execution_count": 10,
   "id": "5761b2a2-2737-4b8a-849f-ccd06c4227a5",
   "metadata": {},
   "outputs": [
    {
     "name": "stdout",
     "output_type": "stream",
     "text": [
      "denominator cannot be zero\n"
     ]
    }
   ],
   "source": [
    "#Q7. How do you log information at different levels (INFO, ERROR, WARNING) in Python using the logging module.\n",
    "logging.basicConfig(filename= \"Logging Info.log\", level = logging.DEBUG)\n",
    "try: \n",
    "    logging.info(\"Division\")\n",
    "    x = 5\n",
    "    if x == 0:\n",
    "        logging.warning(\"Numerator is zero\")\n",
    "    y = 0\n",
    "    z = x/y\n",
    "except ZeroDivisionError:\n",
    "    logging.error(\"denominator cannot be zero\")\n",
    "    print('denominator cannot be zero')\n",
    "except exception as e:\n",
    "    print(e)\n"
   ]
  },
  {
   "cell_type": "code",
   "execution_count": 11,
   "id": "e0f5294f-b17b-4d03-8d7b-1263d9e45a41",
   "metadata": {},
   "outputs": [
    {
     "name": "stdout",
     "output_type": "stream",
     "text": [
      "File not found\n"
     ]
    }
   ],
   "source": [
    "#Q8. Write a program to handle a file opening error using exception handling\n",
    "try:\n",
    "    with open('tanu.txt','r') as file:\n",
    "        for line in file:\n",
    "            print(line)\n",
    "except FileNotFoundError:\n",
    "    print(\"File not found\")\n",
    "except PermissionError:\n",
    "    print(\"Cannot be open\")\n",
    "except exception as e:\n",
    "    print(e)\n"
   ]
  },
  {
   "cell_type": "code",
   "execution_count": 12,
   "id": "ba2870dd-8a90-4b01-9af6-d371d8994906",
   "metadata": {},
   "outputs": [
    {
     "data": {
      "text/plain": [
       "['Tanushree']"
      ]
     },
     "execution_count": 12,
     "metadata": {},
     "output_type": "execute_result"
    }
   ],
   "source": [
    "#Q9. How can you read a file line by line and store its content in a list in Python.\n",
    "A = []\n",
    "with open('ABC.txt','r') as file:\n",
    "    for line in file:\n",
    "        A.append(line.strip())\n",
    "A"
   ]
  },
  {
   "cell_type": "code",
   "execution_count": 13,
   "id": "82d52b7a-7b84-4c86-a4c3-fd60b3a02671",
   "metadata": {},
   "outputs": [],
   "source": [
    "#Q10.How can you append data to an existing file in Python\n",
    "with open(\"ABC.txt\",'a') as file:\n",
    "    file.write('Tanushree \\n Arpit is so kind')\n",
    "    "
   ]
  },
  {
   "cell_type": "code",
   "execution_count": 14,
   "id": "4cb99a49-7581-40de-96c1-e937fce809cf",
   "metadata": {},
   "outputs": [
    {
     "name": "stdout",
     "output_type": "stream",
     "text": [
      "key not available\n"
     ]
    }
   ],
   "source": [
    "#Q11. Write a Python program that uses a try-except block to handle an error when attempting to access a dictionary key that doesn't exist.\n",
    "My_Dic = {'Name' : \"Tanu\", 'Course' : 'Data Science'}\n",
    "try:\n",
    "    print(My_Dic['Assignment'])\n",
    "except KeyError:\n",
    "    print('key not available')\n",
    "except exception as e:\n",
    "    print(e)"
   ]
  },
  {
   "cell_type": "code",
   "execution_count": 16,
   "id": "353d7512-7a44-47ea-bd33-a667455a1b1a",
   "metadata": {},
   "outputs": [
    {
     "name": "stdin",
     "output_type": "stream",
     "text": [
      "Enter a number 3\n",
      "Enter another number 4\n"
     ]
    },
    {
     "name": "stdout",
     "output_type": "stream",
     "text": [
      "0.75\n"
     ]
    }
   ],
   "source": [
    "#Q12. Write a program that demonstrates using multiple except blocks to handle different types of exceptions\n",
    "try: \n",
    "    x = int(input(\"Enter a number\"))\n",
    "    y = int(input(\"Enter another number\"))\n",
    "    z = x/y\n",
    "    print(z)\n",
    "except ZeroDivisionError:\n",
    "    print('denominator cannot be zero')\n",
    "except ValueError:\n",
    "    print('invalid value')\n",
    "except exception as e:\n",
    "    print(e)\n"
   ]
  },
  {
   "cell_type": "code",
   "execution_count": 17,
   "id": "b58c20df-c28b-4f19-9c1e-3c7a72754c35",
   "metadata": {},
   "outputs": [],
   "source": [
    "#Q13. How would you check if a file exists before attempting to read it in Python\n",
    "import os\n",
    "if os.path.exists(\"Nitu.txt\"):\n",
    "    with open('tanu.txt','r') as file:\n",
    "        for line in file:\n",
    "            print(line)\n",
    "else:\n",
    "    print(\"file does not exist\")\n"
   ]
  },
  {
   "cell_type": "code",
   "execution_count": 19,
   "id": "eba9de39-82b6-405d-9616-a3514ba1f9d7",
   "metadata": {},
   "outputs": [
    {
     "name": "stdout",
     "output_type": "stream",
     "text": [
      "1.25\n",
      "20\n"
     ]
    }
   ],
   "source": [
    "#Q14. Write a program that uses the logging module to log both informational and error messages\n",
    "logging.basicConfig(filename= \"Logging Info.log\", level = logging.DEBUG)\n",
    "try: \n",
    "    logging.info(\"Division\")\n",
    "    x = 5\n",
    "    if x == 0:\n",
    "        logging.warning(\"Numerator is zero\")\n",
    "    y = 4\n",
    "    z = x/y\n",
    "    print(z)\n",
    "    logging.info(\"Multiplication\")\n",
    "    a=x*y\n",
    "    print(a)\n",
    "    \n",
    "except ZeroDivisionError:\n",
    "    logging.error(\"denominator cannot be zero\")\n",
    "    print('denominator cannot be zero')\n",
    "except exception as e:\n",
    "    print(e)\n",
    "\n"
   ]
  },
  {
   "cell_type": "code",
   "execution_count": null,
   "id": "bb2820cb-bc1d-4b02-b79a-12ee6685632e",
   "metadata": {},
   "outputs": [],
   "source": [
    "#Q15. Write a Python program that prints the content of a file and handles the case when the file is empty\n",
    "try: \n",
    "    with open('ABC.txt','r') as file:\n",
    "    text = file.read()\n",
    "    if text:\n",
    "        print(text)\n",
    "    else:\n",
    "        print(\"Empty content\")\n",
    "except FileNotFoundError:\n",
    "    print(\"File not found\")\n",
    "except PermissionError:\n",
    "    print(\"Cannot be open\")\n",
    "except exception as e:\n",
    "    print(e)\n",
    "\n",
    "    \n",
    "\n"
   ]
  },
  {
   "cell_type": "code",
   "execution_count": 23,
   "id": "b7033502-8e47-442a-b785-6565a9863445",
   "metadata": {},
   "outputs": [
    {
     "name": "stdout",
     "output_type": "stream",
     "text": [
      "Processed list length: 100000\n",
      "Processed list length: 100000\n",
      "Processed list length: 100000\n",
      "Processed list length: 100000\n",
      "Memory usage: 78.37890625 MiB\n"
     ]
    }
   ],
   "source": [
    "#Q16. Demonstrate how to use memory profiling to check the memory usage of a small program\n",
    "from memory_profiler import memory_usage\n",
    "\n",
    "def create_large_list():\n",
    "    large_list = [i for i in range(100000)]\n",
    "    return large_list\n",
    "\n",
    "def process_list(data):\n",
    "    squared_list = [x ** 2 for x in data]\n",
    "    return squared_list\n",
    "\n",
    "def main():\n",
    "    data = create_large_list()\n",
    "    result = process_list(data)\n",
    "    print(f\"Processed list length: {len(result)}\")\n",
    "\n",
    "\n",
    "mem_usage = memory_usage((main,))\n",
    "print(f\"Memory usage: {max(mem_usage)} MiB\")"
   ]
  },
  {
   "cell_type": "code",
   "execution_count": 20,
   "id": "fa0ed5a9-1179-4522-84e8-0105b236dcda",
   "metadata": {},
   "outputs": [],
   "source": [
    "#Q17. Write a Python program to create and write a list of numbers to a file, one number per line\n",
    "num = [1, 2,3,4, 5,6, 7,8,9, 10]\n",
    "with open(\"ABC.txt\", \"w\") as file:\n",
    "    for n in num:\n",
    "        file.write(f\"{num}\\n\")\n"
   ]
  },
  {
   "cell_type": "code",
   "execution_count": null,
   "id": "7fd763cd-139d-4c89-ae2c-fe5c2a28b189",
   "metadata": {},
   "outputs": [],
   "source": [
    "#Q18. How would you implement a basic logging setup that logs to a file with rotation after 1MB\n",
    "import logging\n",
    "from logging.handlers import RotatingFileHandler\n",
    "logger = logging.getLogger(\"my_logger\")\n",
    "logger.setLevel(logging.DEBUG) \n",
    "handler = RotatingFileHandler(\n",
    "    \"my_app.log\",  \n",
    "    maxBytes=1 * 1024 * 1024,  \n",
    "    backupCount=3,\n",
    ")\n",
    "logger.addHandler(handler)\n",
    "logger.debug(\"This is a debug message.\")\n",
    "logger.info(\"This is an info message.\")\n",
    "logger.warning(\"This is a warning message.\")\n",
    "logger.error(\"This is an error message.\")\n",
    "logger.critical(\"This is a critical message.\")"
   ]
  },
  {
   "cell_type": "code",
   "execution_count": null,
   "id": "f904629a-f1cc-4576-ad68-65ba10995f73",
   "metadata": {},
   "outputs": [],
   "source": [
    "#Q19. Write a program that handles both IndexError and KeyError using a try-except block\n",
    "try:\n",
    "    li=[1,2,3,4,5,56]\n",
    "    My_Dic = {'Name' : \"Tanu\", 'Course' : 'Data Science'}\n",
    "    print(li[10])\n",
    "    print(My_Dic[\"Assignment\"])\n",
    "except IndexError:\n",
    "    print(\"Invalid Index\")\n",
    "except KeyError:\n",
    "    print(\"Invalid Key\")\n",
    "\n",
    "\n"
   ]
  },
  {
   "cell_type": "code",
   "execution_count": null,
   "id": "e2758839-cbb4-4030-906c-f25a7e7ff1c2",
   "metadata": {},
   "outputs": [],
   "source": [
    "#Q20. How would you open a file and read its contents using a context manager in Python\n",
    "try:\n",
    "    with open(\"ABC.txt\", 'r') as file:\n",
    "        content = file.read()\n",
    "        print(content)\n",
    "except FileNotFoundError:\n",
    "    print(\"The file does not exist\")\n",
    "except Exception as e:\n",
    "    print(e)\n"
   ]
  },
  {
   "cell_type": "code",
   "execution_count": null,
   "id": "5e521f05-6108-4e77-b306-68a0df2f2d26",
   "metadata": {},
   "outputs": [],
   "source": [
    "#Q21. Write a Python program that reads a file and prints the number of occurrences of a specific word\n",
    "try:\n",
    "    count = 0\n",
    "    with open(\"ABC.txt\", 'r') as file:\n",
    "        for line in file:\n",
    "            words = line.lower().split()\n",
    "            count += words.count(\"Arpit\".lower())  \n",
    "    print(count)\n",
    "except FileNotFoundError:\n",
    "    print(\"The file does not exist.\")\n",
    "except Exception as e:\n",
    "    print(e)\n",
    "\n"
   ]
  },
  {
   "cell_type": "code",
   "execution_count": null,
   "id": "0da38744-5627-4d06-a8da-61ce92f6c882",
   "metadata": {},
   "outputs": [],
   "source": [
    "#Q22. How can you check if a file is empty before attempting to read its contents\n",
    "if os.path.getsize(file_path) == 0:\n",
    "    print(\"The file is empty.\")\n",
    "else:\n",
    "    with open(\"ABC.txt\", 'r') as file:\n",
    "        content = file.read()\n",
    "        print(content)\n"
   ]
  },
  {
   "cell_type": "code",
   "execution_count": null,
   "id": "1d5c92d2-623c-46c4-a18a-c5c4f4b79166",
   "metadata": {},
   "outputs": [],
   "source": [
    "#Q23. Write a Python program that writes to a log file when an error occurs during file handling.\n",
    "\n",
    "logging.basicConfig(filename= \"Logging Info.log\", level = logging.Error)\n",
    "try:\n",
    "    with open(\"ABC.txt\", 'r') as file:\n",
    "        content = file.read()\n",
    "        print(content)\n",
    "except FileNotFoundError:\n",
    "    logger.error(\"The file does not exist\")\n",
    "    print(\"The file does not exist\")\n",
    "except PermissionError:\n",
    "    logger.error(\"Cannot be open\")\n",
    "    print(\"Cannot be open\")\n",
    "except Exception as e:\n",
    "    logger.error(\"Unexpected Error\")\n",
    "    print(e)"
   ]
  },
  {
   "cell_type": "code",
   "execution_count": null,
   "id": "77d82c6c-b09a-49e2-8223-fa9ab34d95f9",
   "metadata": {},
   "outputs": [],
   "source": []
  }
 ],
 "metadata": {
  "kernelspec": {
   "display_name": "Python 3 (ipykernel)",
   "language": "python",
   "name": "python3"
  },
  "language_info": {
   "codemirror_mode": {
    "name": "ipython",
    "version": 3
   },
   "file_extension": ".py",
   "mimetype": "text/x-python",
   "name": "python",
   "nbconvert_exporter": "python",
   "pygments_lexer": "ipython3",
   "version": "3.12.4"
  }
 },
 "nbformat": 4,
 "nbformat_minor": 5
}
